{
 "cells": [
  {
   "cell_type": "markdown",
   "source": [
    "# Evaluate Some Algorithms:\r\n",
    "We will create some models of data and estimate their accuracy on unseen data."
   ],
   "metadata": {}
  },
  {
   "cell_type": "code",
   "execution_count": 1,
   "source": [
    "from pandas import read_csv\r\n",
    "from sklearn.model_selection import train_test_split"
   ],
   "outputs": [],
   "metadata": {}
  },
  {
   "cell_type": "code",
   "execution_count": 2,
   "source": [
    "dataset = read_csv('Dataset/iris.csv', names=['sepal_length', 'sepal_width', 'petal_length', 'petal_width', 'class'])\r\n",
    "print(\"Data set shape: \", dataset.shape)\r\n",
    "dataset.head(10)"
   ],
   "outputs": [
    {
     "output_type": "stream",
     "name": "stdout",
     "text": [
      "Data set shape:  (150, 5)\n"
     ]
    },
    {
     "output_type": "execute_result",
     "data": {
      "text/html": [
       "<div>\n",
       "<style scoped>\n",
       "    .dataframe tbody tr th:only-of-type {\n",
       "        vertical-align: middle;\n",
       "    }\n",
       "\n",
       "    .dataframe tbody tr th {\n",
       "        vertical-align: top;\n",
       "    }\n",
       "\n",
       "    .dataframe thead th {\n",
       "        text-align: right;\n",
       "    }\n",
       "</style>\n",
       "<table border=\"1\" class=\"dataframe\">\n",
       "  <thead>\n",
       "    <tr style=\"text-align: right;\">\n",
       "      <th></th>\n",
       "      <th>sepal_length</th>\n",
       "      <th>sepal_width</th>\n",
       "      <th>petal_length</th>\n",
       "      <th>petal_width</th>\n",
       "      <th>class</th>\n",
       "    </tr>\n",
       "  </thead>\n",
       "  <tbody>\n",
       "    <tr>\n",
       "      <th>0</th>\n",
       "      <td>5.1</td>\n",
       "      <td>3.5</td>\n",
       "      <td>1.4</td>\n",
       "      <td>0.2</td>\n",
       "      <td>Iris-setosa</td>\n",
       "    </tr>\n",
       "    <tr>\n",
       "      <th>1</th>\n",
       "      <td>4.9</td>\n",
       "      <td>3.0</td>\n",
       "      <td>1.4</td>\n",
       "      <td>0.2</td>\n",
       "      <td>Iris-setosa</td>\n",
       "    </tr>\n",
       "    <tr>\n",
       "      <th>2</th>\n",
       "      <td>4.7</td>\n",
       "      <td>3.2</td>\n",
       "      <td>1.3</td>\n",
       "      <td>0.2</td>\n",
       "      <td>Iris-setosa</td>\n",
       "    </tr>\n",
       "    <tr>\n",
       "      <th>3</th>\n",
       "      <td>4.6</td>\n",
       "      <td>3.1</td>\n",
       "      <td>1.5</td>\n",
       "      <td>0.2</td>\n",
       "      <td>Iris-setosa</td>\n",
       "    </tr>\n",
       "    <tr>\n",
       "      <th>4</th>\n",
       "      <td>5.0</td>\n",
       "      <td>3.6</td>\n",
       "      <td>1.4</td>\n",
       "      <td>0.2</td>\n",
       "      <td>Iris-setosa</td>\n",
       "    </tr>\n",
       "    <tr>\n",
       "      <th>5</th>\n",
       "      <td>5.4</td>\n",
       "      <td>3.9</td>\n",
       "      <td>1.7</td>\n",
       "      <td>0.4</td>\n",
       "      <td>Iris-setosa</td>\n",
       "    </tr>\n",
       "    <tr>\n",
       "      <th>6</th>\n",
       "      <td>4.6</td>\n",
       "      <td>3.4</td>\n",
       "      <td>1.4</td>\n",
       "      <td>0.3</td>\n",
       "      <td>Iris-setosa</td>\n",
       "    </tr>\n",
       "    <tr>\n",
       "      <th>7</th>\n",
       "      <td>5.0</td>\n",
       "      <td>3.4</td>\n",
       "      <td>1.5</td>\n",
       "      <td>0.2</td>\n",
       "      <td>Iris-setosa</td>\n",
       "    </tr>\n",
       "    <tr>\n",
       "      <th>8</th>\n",
       "      <td>4.4</td>\n",
       "      <td>2.9</td>\n",
       "      <td>1.4</td>\n",
       "      <td>0.2</td>\n",
       "      <td>Iris-setosa</td>\n",
       "    </tr>\n",
       "    <tr>\n",
       "      <th>9</th>\n",
       "      <td>4.9</td>\n",
       "      <td>3.1</td>\n",
       "      <td>1.5</td>\n",
       "      <td>0.1</td>\n",
       "      <td>Iris-setosa</td>\n",
       "    </tr>\n",
       "  </tbody>\n",
       "</table>\n",
       "</div>"
      ],
      "text/plain": [
       "   sepal_length  sepal_width  petal_length  petal_width        class\n",
       "0           5.1          3.5           1.4          0.2  Iris-setosa\n",
       "1           4.9          3.0           1.4          0.2  Iris-setosa\n",
       "2           4.7          3.2           1.3          0.2  Iris-setosa\n",
       "3           4.6          3.1           1.5          0.2  Iris-setosa\n",
       "4           5.0          3.6           1.4          0.2  Iris-setosa\n",
       "5           5.4          3.9           1.7          0.4  Iris-setosa\n",
       "6           4.6          3.4           1.4          0.3  Iris-setosa\n",
       "7           5.0          3.4           1.5          0.2  Iris-setosa\n",
       "8           4.4          2.9           1.4          0.2  Iris-setosa\n",
       "9           4.9          3.1           1.5          0.1  Iris-setosa"
      ]
     },
     "metadata": {},
     "execution_count": 2
    }
   ],
   "metadata": {}
  },
  {
   "cell_type": "markdown",
   "source": [
    "## Split-out dataset:\r\n",
    "We will split the loaded dataset into two sets, 80% to train, validate and select among our models, and 20% that we will hold back as a testing dataset.\r\n"
   ],
   "metadata": {}
  },
  {
   "cell_type": "code",
   "execution_count": 4,
   "source": [
    "array = dataset.values\r\n",
    "X = array[:, 0:4]\r\n",
    "y = array[:, 4]\r\n",
    "X_train, X_test, Y_train, Y_test = train_test_split(X, y, test_size=0.20, random_state=1)\r\n",
    "print(f'Training Set has: {X_train.shape[0]} samples\\nTesting Set has {X_test.shape[0]} samples')"
   ],
   "outputs": [
    {
     "output_type": "stream",
     "name": "stdout",
     "text": [
      "Training Set has: 120 samples\n",
      "Testing Set has 30 samples\n"
     ]
    }
   ],
   "metadata": {}
  },
  {
   "cell_type": "markdown",
   "source": [
    "# Build Models to classify Iris Flowers:\r\n",
    "We don’t know which algorithm would be good on this problem.\r\n",
    "\r\n",
    "Let’s test **7** different algorithms (mixture of **linear** and **non-linear** algorithms):\r\n",
    "\r\n",
    "1. **Logistic Regression**\r\n",
    "2. **Linear discriminant Analysis**\r\n",
    "3. **K-Nearest Neighbour**\r\n",
    "4. **Classification and Regression Trees**\r\n",
    "5. **Gaussian Naive Bayes**\r\n",
    "6. **Support Vector Machines**\r\n",
    "7. **Random Forest**"
   ],
   "metadata": {}
  },
  {
   "cell_type": "code",
   "execution_count": 12,
   "source": [
    "from sklearn.linear_model import LogisticRegression\r\n",
    "from sklearn.discriminant_analysis import LinearDiscriminantAnalysis\r\n",
    "from sklearn.svm import SVC\r\n",
    "from sklearn.tree import DecisionTreeClassifier\r\n",
    "from sklearn.neighbors import KNeighborsClassifier\r\n",
    "from sklearn.naive_bayes import GaussianNB\r\n",
    "from sklearn.ensemble import RandomForestClassifier"
   ],
   "outputs": [],
   "metadata": {}
  },
  {
   "cell_type": "code",
   "execution_count": 13,
   "source": [
    "models = []\r\n",
    "\r\n",
    "models.append(('LR', LogisticRegression(solver='liblinear', multi_class='ovr')))\r\n",
    "# solver : {‘newton-cg’, ‘lbfgs’, ‘liblinear’, ‘sag’, ‘saga’}, default=’lbfgs’\r\n",
    "# Algorithm to use in the optimization problem. Default is ‘lbfgs’. To choose a solver, you might want to consider the following aspects:\r\n",
    "# For small datasets, ‘liblinear’ is a good choice, whereas ‘sag’ and ‘saga’ are faster for large ones;\r\n",
    "# For multiclass problems, only ‘newton-cg’, ‘sag’, ‘saga’ and ‘lbfgs’ handle multinomial loss;\r\n",
    "# ‘liblinear’ is limited to one-versus-rest schemes.\r\n",
    "\r\n",
    "# multi_class : {‘auto’, ‘ovr’, ‘multinomial’}, default=’auto’\r\n",
    "# If the option chosen is ‘ovr’ (one-vs-rest (OvR) scheme), then a binary problem is fit for each label.\r\n",
    "# For ‘multinomial’ the loss minimised is the multinomial loss fit across the entire probability distribution, even when the data is binary.\r\n",
    "# ‘multinomial’ is unavailable when solver=’liblinear’.\r\n",
    "# ‘auto’ selects ‘ovr’ if the data is binary, or if solver=’liblinear’, and otherwise selects ‘multinomial’.\r\n",
    "\r\n",
    "models.append(('LDA', LinearDiscriminantAnalysis()))\r\n",
    "models.append(('KNN', KNeighborsClassifier()))\r\n",
    "models.append(('CART', DecisionTreeClassifier()))\r\n",
    "models.append(('NB', GaussianNB()))\r\n",
    "models.append(('SVM', SVC(gamma='auto')))\r\n",
    "# gamma : {‘scale’, ‘auto’} or float, default=’scale’\r\n",
    "# Kernel coefficient for ‘rbf’, ‘poly’ and ‘sigmoid’.\r\n",
    "# if gamma='scale' (default) is passed then it uses 1 / (n_features * X.var()) as value of gamma,\r\n",
    "# if ‘auto’, uses 1 / n_features.\r\n",
    "\r\n",
    "models.append(('RF', RandomForestClassifier(n_estimators=200))) # n_estimators : The number of trees in the forest."
   ],
   "outputs": [],
   "metadata": {}
  },
  {
   "cell_type": "markdown",
   "source": [
    "## Evaluate each model in turn\r\n",
    "\r\n",
    "We will use **stratified 10-fold cross validation** to estimate model **accuracy**.\r\n",
    "\r\n",
    "This will split our dataset into **10** parts, train on **9** and validate on **1** and repeat for all combinations of train-test splits.\r\n",
    "\r\n",
    "We are using the metric of **‘accuracy‘** to evaluate models."
   ],
   "metadata": {}
  },
  {
   "cell_type": "markdown",
   "source": [
    "### `class sklearn.model_selection.StratifiedKFold(n_splits=5, *, shuffle=False, random_state=None)`\r\n",
    "\r\n",
    "Stratified K-Folds cross-validator.\r\n",
    "\r\n",
    "Provides train/test indices to split data in train/test sets.\r\n",
    "\r\n",
    "This cross-validation object is a variation of KFold that returns stratified folds. The folds are made by preserving the percentage of samples for each class.\r\n",
    "\r\n",
    "### `sklearn.model_selection.cross_val_score(estimator, X, y=None, *, groups=None, scoring=None, cv=None, n_jobs=None, verbose=0, fit_params=None, pre_dispatch='2*n_jobs', error_score=nan)`\r\n",
    "\r\n",
    "#### Parameters:\r\n",
    "\r\n",
    "**estimator** : estimator object implementing ‘fit’\r\n",
    "The object to use to fit the data.\r\n",
    "\r\n",
    "**X** : array-like of shape (n_samples, n_features)\r\n",
    "The data to fit. Can be for example a list, or an array.\r\n",
    "\r\n",
    "**y** : array-like of shape (n_samples,) or (n_samples, n_outputs), default=None\r\n",
    "The target variable to try to predict in the case of supervised learning.\r\n",
    "\r\n",
    "**scoring** : str or callable, default=None\r\n",
    "A str (see model evaluation documentation) or a scorer callable object / function with signature scorer(estimator, X, y) which should return only a single value.\r\n",
    "\r\n",
    "**cv** : int, cross-validation generator or an iterable, default=None\r\n",
    "Determines the cross-validation splitting strategy. Possible inputs for cv are:\r\n",
    "\r\n",
    "* **None**, to use the default 5-fold cross validation,\r\n",
    "\r\n",
    "* **int**, to specify the number of folds in a (Stratified)KFold,\r\n",
    "\r\n",
    "* **CV splitter**, (a cross-validation generator)\r\n",
    "\r\n",
    "* **An iterable yielding** (train, test) splits as arrays of indices.\r\n",
    "\r\n",
    "For **int**/**None** inputs, if the **estimator** is a classifier and **y** is either binary or multiclass, **StratifiedKFold** is used. In all other cases, **KFold** is used.\r\n",
    "\r\n",
    "These splitters are instantiated with **shuffle = False** so the splits will be the same across calls.\r\n",
    "\r\n",
    "#### Returns:\r\n",
    "\r\n",
    "**scores** : ndarray of float \r\n",
    "Array of scores of the estimator for each run of the cross validation.\r\n",
    "\r\n"
   ],
   "metadata": {}
  },
  {
   "cell_type": "code",
   "execution_count": 14,
   "source": [
    "from sklearn.model_selection import StratifiedKFold, cross_val_score\r\n",
    "\r\n",
    "results = []\r\n",
    "names = []\r\n",
    "for name, model in models:\r\n",
    "\tkfold = StratifiedKFold(n_splits=10, random_state=1, shuffle=True)\r\n",
    "\tcv_results = cross_val_score(model, X_train, Y_train, cv=kfold, scoring='accuracy')\r\n",
    "\tresults.append(cv_results)\r\n",
    "\tnames.append(name)\r\n",
    "\tprint('%s: %f (%f)' % (name, cv_results.mean(), cv_results.std()))"
   ],
   "outputs": [
    {
     "output_type": "stream",
     "name": "stdout",
     "text": [
      "LR: 0.941667 (0.065085)\n",
      "LDA: 0.975000 (0.038188)\n",
      "KNN: 0.958333 (0.041667)\n",
      "CART: 0.941667 (0.038188)\n",
      "NB: 0.950000 (0.055277)\n",
      "SVM: 0.983333 (0.033333)\n",
      "RF: 0.958333 (0.041667)\n"
     ]
    }
   ],
   "metadata": {}
  },
  {
   "cell_type": "markdown",
   "source": [
    "## Select Best Model"
   ],
   "metadata": {}
  },
  {
   "cell_type": "code",
   "execution_count": 18,
   "source": [
    "from matplotlib import pyplot\r\n",
    "\r\n",
    "pyplot.boxplot(results, labels=names)\r\n",
    "pyplot.title('Algorithm Comparison')\r\n",
    "pyplot.ylabel('Accuracy')\r\n",
    "pyplot.xlabel('Algorithm')\r\n",
    "pyplot.show()"
   ],
   "outputs": [
    {
     "output_type": "display_data",
     "data": {
      "image/png": "[encoded data removed]",
      "text/plain": [
       "<Figure size 432x288 with 1 Axes>"
      ]
     },
     "metadata": {
      "needs_background": "light"
     }
    }
   ],
   "metadata": {}
  },
  {
   "cell_type": "markdown",
   "source": [
    "The results suggest that the **SVM** was perhaps the most accurate model. We will use this model as our **final model**.\r\n",
    "\r\n",
    "So, We will fit the SVM on the **entire training dataset** and evaluate it on the testing dataset.\r\n"
   ],
   "metadata": {}
  },
  {
   "cell_type": "code",
   "execution_count": 16,
   "source": [
    "model = SVC(gamma='auto')\r\n",
    "model.fit(X_train, Y_train)\r\n",
    "predictions = model.predict(X_test)"
   ],
   "outputs": [],
   "metadata": {}
  },
  {
   "cell_type": "markdown",
   "source": [
    "## Evaluate Predictions"
   ],
   "metadata": {}
  },
  {
   "cell_type": "code",
   "execution_count": 35,
   "source": [
    "from sklearn.metrics import classification_report\r\n",
    "from sklearn.metrics import plot_confusion_matrix\r\n",
    "from sklearn.metrics import accuracy_score\r\n",
    "\r\n",
    "print('SVM accuracy on the Testing Data: {:.2f}'.format(accuracy_score(Y_test, predictions)))\r\n",
    "plot_confusion_matrix(model, X_test, Y_test, cmap='cividis')\r\n",
    "pyplot.title('Confusion Matrix')\r\n",
    "print(classification_report(Y_test, predictions))"
   ],
   "outputs": [
    {
     "output_type": "stream",
     "name": "stdout",
     "text": [
      "SVM accuracy on the Testing Data: 0.97\n",
      "                 precision    recall  f1-score   support\n",
      "\n",
      "    Iris-setosa       1.00      1.00      1.00        11\n",
      "Iris-versicolor       1.00      0.92      0.96        13\n",
      " Iris-virginica       0.86      1.00      0.92         6\n",
      "\n",
      "       accuracy                           0.97        30\n",
      "      macro avg       0.95      0.97      0.96        30\n",
      "   weighted avg       0.97      0.97      0.97        30\n",
      "\n"
     ]
    },
    {
     "output_type": "display_data",
     "data": {
      "image/png": "[encoded data removed]",
      "text/plain": [
       "<Figure size 432x288 with 2 Axes>"
      ]
     },
     "metadata": {
      "needs_background": "light"
     }
    }
   ],
   "metadata": {}
  },
  {
   "cell_type": "code",
   "execution_count": null,
   "source": [],
   "outputs": [],
   "metadata": {}
  }
 ],
 "metadata": {
  "orig_nbformat": 4,
  "language_info": {
   "name": "python",
   "version": "3.8.0",
   "mimetype": "text/x-python",
   "codemirror_mode": {
    "name": "ipython",
    "version": 3
   },
   "pygments_lexer": "ipython3",
   "nbconvert_exporter": "python",
   "file_extension": ".py"
  },
  "kernelspec": {
   "name": "python3",
   "display_name": "Python 3.8.0 64-bit"
  },
  "interpreter": {
   "hash": "97bcff7fc1cc7c51fee9c76feaebfc50480827ac1064142346d12407294946e8"
  }
 },
 "nbformat": 4,
 "nbformat_minor": 2
}